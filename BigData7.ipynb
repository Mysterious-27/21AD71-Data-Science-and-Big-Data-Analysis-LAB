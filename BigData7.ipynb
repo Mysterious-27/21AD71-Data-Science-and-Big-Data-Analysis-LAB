{
  "nbformat": 4,
  "nbformat_minor": 0,
  "metadata": {
    "colab": {
      "provenance": [],
      "authorship_tag": "ABX9TyPjm2pj56IC+VdK8x5F8Bz9",
      "include_colab_link": true
    },
    "kernelspec": {
      "name": "python3",
      "display_name": "Python 3"
    },
    "language_info": {
      "name": "python"
    }
  },
  "cells": [
    {
      "cell_type": "markdown",
      "metadata": {
        "id": "view-in-github",
        "colab_type": "text"
      },
      "source": [
        "<a href=\"https://colab.research.google.com/github/Mysterious-27/21AD71-Data-Science-and-Big-Data-Analysis-LAB/blob/main/BigData7.ipynb\" target=\"_parent\"><img src=\"https://colab.research.google.com/assets/colab-badge.svg\" alt=\"Open In Colab\"/></a>"
      ]
    },
    {
      "cell_type": "code",
      "source": [
        "# Import necessary libraries\n",
        "from pyspark.sql import SparkSession\n",
        "\n",
        "# Initialize Spark session\n",
        "spark = SparkSession.builder.appName(\"KMeansExample\").getOrCreate()\n",
        "\n",
        "# Download the sample data file if it doesn't exist\n",
        "!wget https://raw.githubusercontent.com/apache/spark/master/data/mllib/sample_kmeans_data.txt\n",
        "\n",
        "# Load dataset in LIBSVM format\n",
        "# Updated path to the downloaded file.\n",
        "dataset = spark.read.format(\"libsvm\").load(\"sample_kmeans_data.txt\")\n",
        "\n",
        "# Import KMeans clustering algorithm\n",
        "from pyspark.ml.clustering import KMeans\n",
        "\n",
        "# Initialize KMeans with 2 clusters and a seed for reproducibility\n",
        "kmeans = KMeans().setK(2).setSeed(1)\n",
        "# Train the KMeans model\n",
        "model = kmeans.fit(dataset)\n",
        "\n",
        "# Make predictions on the dataset\n",
        "predictions = model.transform(dataset)\n",
        "# Show the predictions\n",
        "predictions.show()\n",
        "\n",
        "# Import ClusteringEvaluator for model evaluation\n",
        "from pyspark.ml.evaluation import ClusteringEvaluator\n",
        "\n",
        "# Evaluate the model using Silhouette score\n",
        "evaluator = ClusteringEvaluator()\n",
        "silhouette = evaluator.evaluate(predictions)\n",
        "print(f\"Silhouette with squared euclidean distance = {silhouette}\")\n",
        "\n",
        "# Print the cluster centers\n",
        "centers = model.clusterCenters()\n",
        "print(\"Cluster Centers: \")\n",
        "for center in centers:\n",
        "    print(center)\n",
        "\n",
        "# Load dataset again for Bisecting KMeans\n",
        "# Using the downloaded file path.\n",
        "dataset = spark.read.format(\"libsvm\").load(\"sample_kmeans_data.txt\")\n",
        "\n",
        "# Import BisectingKMeans clustering algorithm\n",
        "from pyspark.ml.clustering import BisectingKMeans\n",
        "\n",
        "# Initialize BisectingKMeans with 2 clusters and a seed for reproducibility\n",
        "bkm = BisectingKMeans().setK(2).setSeed(1)\n",
        "# Train the BisectingKMeans model\n",
        "model = bkm.fit(dataset)\n",
        "\n",
        "# Make predictions on the dataset\n",
        "predictions = model.transform(dataset)\n",
        "# Show the predictions\n",
        "predictions.show()\n",
        "\n",
        "# Evaluate the model using Silhouette score\n",
        "evaluator = ClusteringEvaluator()\n",
        "silhouette = evaluator.evaluate(predictions)\n",
        "print(f\"Silhouette with squared euclidean distance = {silhouette}\")\n",
        "\n",
        "# Print the cluster centers\n",
        "centers = model.clusterCenters()\n",
        "print(\"Cluster Centers: \")\n",
        "for center in centers:\n",
        "  print(center)"
      ],
      "metadata": {
        "colab": {
          "base_uri": "https://localhost:8080/"
        },
        "id": "BhIhNUw4qpIF",
        "outputId": "c1e451a0-45af-4224-cff2-4d4d55b8854a"
      },
      "execution_count": 3,
      "outputs": [
        {
          "output_type": "stream",
          "name": "stdout",
          "text": [
            "--2024-11-25 04:53:20--  https://raw.githubusercontent.com/apache/spark/master/data/mllib/sample_kmeans_data.txt\n",
            "Resolving raw.githubusercontent.com (raw.githubusercontent.com)... 185.199.108.133, 185.199.109.133, 185.199.110.133, ...\n",
            "Connecting to raw.githubusercontent.com (raw.githubusercontent.com)|185.199.108.133|:443... connected.\n",
            "HTTP request sent, awaiting response... 200 OK\n",
            "Length: 120 [text/plain]\n",
            "Saving to: ‘sample_kmeans_data.txt’\n",
            "\n",
            "sample_kmeans_data. 100%[===================>]     120  --.-KB/s    in 0s      \n",
            "\n",
            "2024-11-25 04:53:20 (4.66 MB/s) - ‘sample_kmeans_data.txt’ saved [120/120]\n",
            "\n",
            "+-----+--------------------+----------+\n",
            "|label|            features|prediction|\n",
            "+-----+--------------------+----------+\n",
            "|  0.0|           (3,[],[])|         1|\n",
            "|  1.0|(3,[0,1,2],[0.1,0...|         1|\n",
            "|  2.0|(3,[0,1,2],[0.2,0...|         1|\n",
            "|  3.0|(3,[0,1,2],[9.0,9...|         0|\n",
            "|  4.0|(3,[0,1,2],[9.1,9...|         0|\n",
            "|  5.0|(3,[0,1,2],[9.2,9...|         0|\n",
            "+-----+--------------------+----------+\n",
            "\n",
            "Silhouette with squared euclidean distance = 0.9997530305375207\n",
            "Cluster Centers: \n",
            "[9.1 9.1 9.1]\n",
            "[0.1 0.1 0.1]\n",
            "+-----+--------------------+----------+\n",
            "|label|            features|prediction|\n",
            "+-----+--------------------+----------+\n",
            "|  0.0|           (3,[],[])|         0|\n",
            "|  1.0|(3,[0,1,2],[0.1,0...|         0|\n",
            "|  2.0|(3,[0,1,2],[0.2,0...|         0|\n",
            "|  3.0|(3,[0,1,2],[9.0,9...|         1|\n",
            "|  4.0|(3,[0,1,2],[9.1,9...|         1|\n",
            "|  5.0|(3,[0,1,2],[9.2,9...|         1|\n",
            "+-----+--------------------+----------+\n",
            "\n",
            "Silhouette with squared euclidean distance = 0.9997530305375207\n",
            "Cluster Centers: \n",
            "[0.1 0.1 0.1]\n",
            "[9.1 9.1 9.1]\n"
          ]
        }
      ]
    }
  ]
}